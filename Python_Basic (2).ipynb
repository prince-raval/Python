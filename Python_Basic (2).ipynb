{
 "cells": [
  {
   "cell_type": "markdown",
   "id": "45441e75-2723-41c3-a693-6e8b46e0dceb",
   "metadata": {},
   "source": [
    "Q1.) What is Python, and why is it popular?\n",
    "\n",
    "Ans- Python is a high-level, interpreted programming language that allows users to write instructions for a computer in a simple and readable way.\n",
    "\n",
    "It is popular because of several key features:\n",
    "\n",
    "Easy to read and write: Python has a clean and straightforward syntax.\n",
    "Open source: Freely available for everyone to use and modify.\n",
    "High-level language: Abstracts complex details of the computer's hardware.\n",
    "Portable: Code can run on different platforms without modification.\n",
    "Interpreted language: Executes code line-by-line, which makes debugging easier.\n",
    "Supports multiple programming paradigms: Both object-oriented and procedural styles are supported.\n",
    "Extensive standard library: Comes with many built-in modules and packages.\n",
    "Dynamically typed: No need to declare variable types explicitly.\n",
    "Large community support: Active community provides lots of resources and help.\n",
    "Embeddable and extensible: Can be integrated with other languages like C/C++."
   ]
  },
  {
   "cell_type": "markdown",
   "id": "4be532b0-ebcc-45ab-bf35-759c7f64c4d0",
   "metadata": {},
   "source": [
    "Q2.)  What is an interpreter in Python \n",
    "Ans - Python is an interpreted programming language, which means that the code is executed line by line by the Python interpreter, rather than being compiled into machine code all at once like C or C++.\n",
    "\n",
    "The interpreter reads each line of the code, translates it into machine code, and then executes it immediately. This makes debugging easier and allows for quick testing and development."
   ]
  },
  {
   "cell_type": "markdown",
   "id": "94275fde-d108-488d-a608-e1abb7af95ef",
   "metadata": {},
   "source": [
    "Q3.)  What are pre-defined keywords in Python ?\n",
    "Ans- Pre-defined keywords in Python are reserved words that have special meanings and are used to perform specific functions or represent specific syntax in the language.\n",
    "\n",
    "These keywords cannot be used as variable names, function names, or identifiers because they are part of the core Python syntax.\n",
    "Some common examples include: if, else, while, for, def, return, True, False, and None.."
   ]
  },
  {
   "cell_type": "markdown",
   "id": "62b5584d-2ebe-4b84-828c-71cd874b1503",
   "metadata": {},
   "source": [
    "Q4.) Can keywords be used as variable names \n",
    "Ans- No, keywords cannot be used as variable names, function names, or identifiers because they are reserved words that are part of the core Python syntax.\n",
    "\n",
    "Using a keyword as a variable name will result in a syntax error."
   ]
  },
  {
   "cell_type": "markdown",
   "id": "32ec9a2e-4a0c-440a-be4c-a1d812c69ce4",
   "metadata": {},
   "source": [
    "Q5.) What is mutability in Python ?\n",
    "Ans- Mutability refers to whether or not an object’s value can be changed after it has been created.\n",
    "\n",
    "In Python:\n",
    ">>Mutable objects can be changed. Examples include: list, set, and dictionary.\n",
    ">>Immutable objects cannot be changed. Examples include: string, tuple, and int.\n",
    "\n",
    "So, if you modify a mutable object, the changes will affect the original data. But with immutable objects, any \"change\" creates a new object."
   ]
  },
  {
   "cell_type": "markdown",
   "id": "afc42d1a-2a41-4233-ad7e-b045d6900382",
   "metadata": {},
   "source": [
    "Q6.) Why are lists mutable, but tuples are immutable ?\n",
    "Ans-  In Python, lists are mutable because they are designed to store collections of items that may need to be updated, changed, or modified. You can add, remove, or change elements in a list after it is created.\n",
    "\n",
    "On the other hand, tuples are immutable, meaning their elements cannot be changed after creation. This design makes tuples more memory-efficient and allows them to be used as keys in dictionaries or elements in sets, which require immutable types.\n",
    "\n",
    "The mutability or immutability of these types is built into how they are implemented in Python."
   ]
  },
  {
   "cell_type": "markdown",
   "id": "4d70d477-f5a8-4ff6-8661-0affaa4010eb",
   "metadata": {},
   "source": [
    "Q7.)  What is the difference between “==” and “is” operators in Python ?\n",
    "Ans- The main difrence of \"==\" and \"is\" are given below\n",
    ">> \"==\" checks if the values of two variables are the same.\n",
    ">> \"is\" checks if two variables point to the same object in memory.\n",
    "\n",
    "Even if two variables have the same value, they might not be the same object."
   ]
  },
  {
   "cell_type": "markdown",
   "id": "222be821-7611-4d18-a19d-48f963d35fbe",
   "metadata": {},
   "source": [
    "Q8.) What are logical operators in Python ?\n",
    "Ans- Logical operators in Python are used to combine conditional statements and return a Boolean value (True or False). \n",
    "\n",
    "There are three main logical operators in Python:\n",
    ">> and – Returns True if both conditions are true.\n",
    "\n",
    ">> or – Returns True if at least one of the conditions is true.\n",
    "\n",
    ">> not – Reverses the result, returns True if the condition is false."
   ]
  },
  {
   "cell_type": "markdown",
   "id": "149982e7-89f2-49d7-81f0-cfe477ecdff5",
   "metadata": {},
   "source": [
    "Q9.) What is type casting in Python ?\n",
    "Ans- Type casting in Python is the process of converting the type of a variable from one data type to another, if possible. It is used when you need to perform operations that require matching data types.\n",
    "\n",
    "There are two types of type casting:\n",
    "\n",
    "Implicit type casting (automatic) – Python automatically converts one data type to another when necessary (e.g., converting an integer to a float during arithmetic operations).\n",
    "\n",
    "Explicit type casting (manual) – The programmer explicitly converts one data type to another using built-in functions like int(), float(), str(), etc."
   ]
  },
  {
   "cell_type": "markdown",
   "id": "4ed710f1-e19f-4b7c-8fc1-12d276357e0d",
   "metadata": {},
   "source": [
    "Q.10) What is the difference between implicit and explicit type casting ?\n",
    "Ans- Implicit type casting is automatic, Python automatically converts one data type to another when necessary (eg., conveting an integer to float during arithematic operations).\n",
    "                            But, Explicit type casting is manual, The programmer explicitly converts one data to another using built in functions like int(), float(), str(), etc."
   ]
  },
  {
   "cell_type": "markdown",
   "id": "05a541ab-aad6-4d9d-a18f-1078964cebc5",
   "metadata": {},
   "source": [
    "Q11.) What is the purpose of conditional statements in Python ?\n",
    "Ans- The purpose of conditional statements in Python is to allow the program to make decisions and execute certain parts of code based on whether a condition is True or False.\n",
    "\n",
    "Conditional statements help control the flow of a program. The most commonly used conditional statements are:\n",
    "\n",
    "if\n",
    "\n",
    "if...else\n",
    "\n",
    "if...elif...else\n",
    "\n",
    "These statements check a condition and run different blocks of code depending on the result."
   ]
  },
  {
   "cell_type": "markdown",
   "id": "8f81f58c-7722-4817-a402-22886eec462a",
   "metadata": {},
   "source": [
    "Q12.) How does the elif statement work ?\n",
    "Ans- The elif (short for \"else if\") statement in Python is used to check multiple conditions one by one after an initial if condition.\n",
    "\n",
    "If the if condition is False, Python moves to the elif and checks that condition. If it’s True, the corresponding block of code runs, and the rest of the conditions are skipped. You can use multiple elif statements in a row."
   ]
  },
  {
   "cell_type": "markdown",
   "id": "b8e7b677-f8c9-4805-96b5-c6e122ed902d",
   "metadata": {},
   "source": [
    "Q13.) What is the difference between for and while loops ? \n",
    "Ans- The main difference between for and while loops in Python is how and when they iterate:\n",
    "\n",
    ">> for loop is used when you know in advance how many times you want to execute a block of code. It's typically used to iterate over sequences like lists, tuples, strings, or ranges.\n",
    "\n",
    ">> while loop is used when you don’t know beforehand how many times to loop. It continues to run as long as a condition is True."
   ]
  },
  {
   "cell_type": "markdown",
   "id": "fae0f19a-3cfc-4360-9c99-b615897424fb",
   "metadata": {},
   "source": [
    "Q14.)  Describe a scenario where a while loop is more suitable than a for loop.\n",
    "Ans- A while loop is more suitable when you don’t know in advance how many times the loop should run, and you want to keep looping until a certain condition is met.\n",
    "\n",
    "Example Scenario:\n",
    "Imagine you're asking a user to enter a password, and you want to keep asking until they enter the correct one."
   ]
  },
  {
   "cell_type": "markdown",
   "id": "81d7a188-b3f3-4a76-9846-89e48ae031ea",
   "metadata": {},
   "source": []
  },
  {
   "cell_type": "code",
   "execution_count": null,
   "id": "4129a1cc-b639-436c-9c4e-52d850abde61",
   "metadata": {},
   "outputs": [],
   "source": [
    ">>>>Practical Question>>>>"
   ]
  },
  {
   "cell_type": "code",
   "execution_count": 2,
   "id": "8127f17c-daa4-4d08-9ecb-a942e7d16606",
   "metadata": {},
   "outputs": [
    {
     "name": "stdout",
     "output_type": "stream",
     "text": [
      "Hello World!\n"
     ]
    }
   ],
   "source": [
    "#Q1.) Write a Python program to print \"Hello, World!\n",
    "\n",
    "print(\"Hello World!\")\n",
    "\n"
   ]
  },
  {
   "cell_type": "code",
   "execution_count": 4,
   "id": "ac287313-acd5-4129-bc40-67016cc6d66a",
   "metadata": {},
   "outputs": [
    {
     "name": "stdout",
     "output_type": "stream",
     "text": [
      "Hello, My name is Prince Kumar and I'm 25 years old.\n"
     ]
    }
   ],
   "source": [
    "#Q.2) Write a Python program that displays your name and age.\n",
    "\n",
    "name= \"Prince Kumar\"\n",
    "age=25\n",
    "print(f\"Hello, My name is {name} and I'm {age} years old.\")\n"
   ]
  },
  {
   "cell_type": "code",
   "execution_count": 5,
   "id": "c5c2e9de-e0e0-4b52-a80f-1cc4113d4405",
   "metadata": {},
   "outputs": [
    {
     "name": "stdout",
     "output_type": "stream",
     "text": [
      "The list of Python keywords are:\n",
      "False\n",
      "None\n",
      "True\n",
      "and\n",
      "as\n",
      "assert\n",
      "async\n",
      "await\n",
      "break\n",
      "class\n",
      "continue\n",
      "def\n",
      "del\n",
      "elif\n",
      "else\n",
      "except\n",
      "finally\n",
      "for\n",
      "from\n",
      "global\n",
      "if\n",
      "import\n",
      "in\n",
      "is\n",
      "lambda\n",
      "nonlocal\n",
      "not\n",
      "or\n",
      "pass\n",
      "raise\n",
      "return\n",
      "try\n",
      "while\n",
      "with\n",
      "yield\n"
     ]
    }
   ],
   "source": [
    "\n",
    "# Q3) Write code to print all the pre-defined keywords in Python using the keyword library.\n",
    "\n",
    "import keyword\n",
    "\n",
    "print(\"The list of Python keywords are:\")\n",
    "for kw in keyword.kwlist:\n",
    "    print(kw)\n",
    "\n"
   ]
  },
  {
   "cell_type": "code",
   "execution_count": 9,
   "id": "99fde8a6-2e07-4380-8949-529837717504",
   "metadata": {},
   "outputs": [
    {
     "name": "stdin",
     "output_type": "stream",
     "text": [
      "Enter a word to check if it's a Python keyword:  while\n"
     ]
    },
    {
     "name": "stdout",
     "output_type": "stream",
     "text": [
      "'while' is a Python keyword.\n"
     ]
    }
   ],
   "source": [
    "#Q.4) Write a program that checks if a given word is a Python keyword.\n",
    "\n",
    "\n",
    "import keyword\n",
    "\n",
    "word = input(\"Enter a word to check if it's a Python keyword: \")\n",
    "\n",
    "if keyword.iskeyword(word):\n",
    "    print(f\"'{word}' is a Python keyword.\")\n",
    "else:\n",
    "    print(f\"'{word}' is NOT a Python keyword.\")\n"
   ]
  },
  {
   "cell_type": "code",
   "execution_count": 10,
   "id": "fe1c3a58-a241-4610-adf5-77f7ba6faad7",
   "metadata": {},
   "outputs": [
    {
     "name": "stdout",
     "output_type": "stream",
     "text": [
      "Original list: [10, 20, 30]\n",
      "Modified list: [10, 99, 30]\n",
      "\n",
      "Original tuple: (10, 20, 30)\n",
      "Error when modifying tuple: 'tuple' object does not support item assignment\n"
     ]
    }
   ],
   "source": [
    "#Q.5) Create a list and tuple in Python, and demonstrate how attempting to change an element works differently for each.\n",
    "\n",
    "# Creating a list and a tuple\n",
    "my_list = [10, 20, 30]\n",
    "my_tuple = (10, 20, 30)\n",
    "\n",
    "# Modifying an element in the list\n",
    "print(\"Original list:\", my_list)\n",
    "my_list[1] = 99  # This will work\n",
    "print(\"Modified list:\", my_list)\n",
    "\n",
    "# Attempting to modify an element in the tuple\n",
    "print(\"\\nOriginal tuple:\", my_tuple)\n",
    "try:\n",
    "    my_tuple[1] = 99  # This will raise an error\n",
    "except TypeError as e:\n",
    "    print(\"Error when modifying tuple:\", e)\n"
   ]
  },
  {
   "cell_type": "code",
   "execution_count": 12,
   "id": "2bbbc7da-4415-418c-b8cf-eea626fffb19",
   "metadata": {},
   "outputs": [
    {
     "name": "stdout",
     "output_type": "stream",
     "text": [
      "Before changing num: 10\n",
      "After changing num (new_num): 15\n",
      "Original num is still: 10\n",
      "\n",
      "---------------------\n",
      "\n",
      "Before changing list: [1, 2, 3]\n",
      "After changing list: [1, 2, 3, 99]\n"
     ]
    }
   ],
   "source": [
    "#Q.6)  Write a function to demonstrate the behavior of mutable and immutable arguments.\n",
    "\n",
    "# Immutable example (integer)\n",
    "num = 10\n",
    "print(\"Before changing num:\", num)\n",
    "\n",
    "# Trying to change num\n",
    "new_num = num + 5\n",
    "print(\"After changing num (new_num):\", new_num)\n",
    "print(\"Original num is still:\", num)\n",
    "\n",
    "print(\"\\n---------------------\\n\")\n",
    "\n",
    "# Mutable example (list)\n",
    "my_list = [1, 2, 3]\n",
    "print(\"Before changing list:\", my_list)\n",
    "\n",
    "# Changing the list\n",
    "my_list.append(99)\n",
    "print(\"After changing list:\", my_list)\n"
   ]
  },
  {
   "cell_type": "code",
   "execution_count": 13,
   "id": "7d0a8036-2868-44f5-bf9c-0cdc04068b06",
   "metadata": {},
   "outputs": [
    {
     "name": "stdin",
     "output_type": "stream",
     "text": [
      "Enter the first number:  10\n",
      "Enter the second number:  20\n"
     ]
    },
    {
     "name": "stdout",
     "output_type": "stream",
     "text": [
      "\n",
      "Results:\n",
      "Addition: 30.0\n",
      "Subtraction: -10.0\n",
      "Multiplication: 200.0\n",
      "Division: 0.5\n"
     ]
    }
   ],
   "source": [
    "#Q.7) Write a program that performs basic arithmetic operations on two user-input numbers.\n",
    "\n",
    "# Get input from the user\n",
    "num1 = float(input(\"Enter the first number: \"))\n",
    "num2 = float(input(\"Enter the second number: \"))\n",
    "\n",
    "# Perform arithmetic operations\n",
    "print(\"\\nResults:\")\n",
    "print(\"Addition:\", num1 + num2)\n",
    "print(\"Subtraction:\", num1 - num2)\n",
    "print(\"Multiplication:\", num1 * num2)\n",
    "\n",
    "# Check for division by zero\n",
    "if num2 != 0:\n",
    "    print(\"Division:\", num1 / num2)\n",
    "else:\n",
    "    print(\"Division: Cannot divide by zero!\")\n"
   ]
  },
  {
   "cell_type": "code",
   "execution_count": 14,
   "id": "39427fd1-66bf-4927-9259-c247c112e102",
   "metadata": {},
   "outputs": [
    {
     "name": "stdin",
     "output_type": "stream",
     "text": [
      "Enter first number (a):  10\n",
      "Enter second number (b):  15\n"
     ]
    },
    {
     "name": "stdout",
     "output_type": "stream",
     "text": [
      "\n",
      "Logical AND:\n",
      "Both numbers are positive.\n",
      "\n",
      "Logical OR:\n",
      "At least one number is positive.\n",
      "\n",
      "Logical NOT:\n",
      "a is not negative.\n"
     ]
    }
   ],
   "source": [
    "#Q.8) Write a program to demonstrate the use of logical operators.\n",
    "\n",
    "# Take user input\n",
    "a = int(input(\"Enter first number (a): \"))\n",
    "b = int(input(\"Enter second number (b): \"))\n",
    "\n",
    "# Using logical AND\n",
    "print(\"\\nLogical AND:\")\n",
    "if a > 0 and b > 0:\n",
    "    print(\"Both numbers are positive.\")\n",
    "else:\n",
    "    print(\"At least one number is not positive.\")\n",
    "\n",
    "# Using logical OR\n",
    "print(\"\\nLogical OR:\")\n",
    "if a > 0 or b > 0:\n",
    "    print(\"At least one number is positive.\")\n",
    "else:\n",
    "    print(\"Neither number is positive.\")\n",
    "\n",
    "# Using logical NOT\n",
    "print(\"\\nLogical NOT:\")\n",
    "if not (a < 0):\n",
    "    print(\"a is not negative.\")\n",
    "else:\n",
    "    print(\"a is negative.\")\n"
   ]
  },
  {
   "cell_type": "code",
   "execution_count": 17,
   "id": "c996a35a-e475-4aec-be8c-1b18627d0ee5",
   "metadata": {},
   "outputs": [
    {
     "name": "stdin",
     "output_type": "stream",
     "text": [
      "Enter something:  20\n"
     ]
    },
    {
     "name": "stdout",
     "output_type": "stream",
     "text": [
      "Integer value: 20\n",
      "Float value: 20.0\n",
      "Boolean value: True\n"
     ]
    }
   ],
   "source": [
    "#Q.9) Write a Python program to convert user input from string to integer, float, and boolean types.\n",
    "\n",
    "# Get input from the user\n",
    "user_input = input(\"Enter something: \")\n",
    "\n",
    "# Check if input is a digit (for int conversion)\n",
    "if user_input.isdigit():\n",
    "    int_value = int(user_input)\n",
    "    print(\"Integer value:\", int_value)\n",
    "else:\n",
    "    print(\"Cannot convert to integer.\")\n",
    "\n",
    "# Check if input can be a float\n",
    "if user_input.replace('.', '', 1).isdigit() and user_input.count('.') <= 1:\n",
    "    float_value = float(user_input)\n",
    "    print(\"Float value:\", float_value)\n",
    "else:\n",
    "    print(\"Cannot convert to float.\")\n",
    "\n",
    "# Convert to boolean\n",
    "# Empty string is False, non-empty string is True\n",
    "bool_value = bool(user_input)\n",
    "print(\"Boolean value:\", bool_value)\n"
   ]
  },
  {
   "cell_type": "code",
   "execution_count": 18,
   "id": "e2ff76a1-1137-4219-8c20-54e492a2d942",
   "metadata": {},
   "outputs": [
    {
     "name": "stdout",
     "output_type": "stream",
     "text": [
      "Original list (strings): ['10', '20', '30', '0', '']\n",
      "Converted to integers: [10, 20, 30, 0, 'Invalid']\n",
      "Converted to floats: [10.0, 20.0, 30.0, 0.0, 'Invalid']\n",
      "Converted to booleans: [True, True, True, True, False]\n"
     ]
    }
   ],
   "source": [
    "#Q.10) Write code to demonstrate type casting with list elements.\n",
    "\n",
    "# A list of string numbers\n",
    "str_list = ['10', '20', '30', '0', '']\n",
    "\n",
    "print(\"Original list (strings):\", str_list)\n",
    "\n",
    "# Convert to integers\n",
    "int_list = []\n",
    "for item in str_list:\n",
    "    if item.isdigit():\n",
    "        int_list.append(int(item))\n",
    "    else:\n",
    "        int_list.append(\"Invalid\")  # Handle non-numeric strings\n",
    "\n",
    "print(\"Converted to integers:\", int_list)\n",
    "\n",
    "# Convert to floats\n",
    "float_list = []\n",
    "for item in str_list:\n",
    "    if item.replace('.', '', 1).isdigit() and item.count('.') <= 1 and item != '':\n",
    "        float_list.append(float(item))\n",
    "    else:\n",
    "        float_list.append(\"Invalid\")\n",
    "\n",
    "print(\"Converted to floats:\", float_list)\n",
    "\n",
    "# Convert to booleans\n",
    "bool_list = [bool(item) for item in str_list]\n",
    "print(\"Converted to booleans:\", bool_list)\n"
   ]
  },
  {
   "cell_type": "code",
   "execution_count": 19,
   "id": "46d36571-294b-4aa6-aeb8-f9be8da3cb0c",
   "metadata": {},
   "outputs": [
    {
     "name": "stdin",
     "output_type": "stream",
     "text": [
      "Enter a number:  10\n"
     ]
    },
    {
     "name": "stdout",
     "output_type": "stream",
     "text": [
      "The number is positive.\n"
     ]
    }
   ],
   "source": [
    "#Q.11) Write a program that checks if a number is positive, negative, or zero.\n",
    "\n",
    "# Get input from the user\n",
    "number = float(input(\"Enter a number: \"))\n",
    "\n",
    "# Check if the number is positive, negative, or zero\n",
    "if number > 0:\n",
    "    print(\"The number is positive.\")\n",
    "elif number < 0:\n",
    "    print(\"The number is negative.\")\n",
    "else:\n",
    "    print(\"The number is zero.\")\n"
   ]
  },
  {
   "cell_type": "code",
   "execution_count": 20,
   "id": "9f10ed90-3299-4b21-8d80-55ec51e6f367",
   "metadata": {},
   "outputs": [
    {
     "name": "stdout",
     "output_type": "stream",
     "text": [
      "1\n",
      "2\n",
      "3\n",
      "4\n",
      "5\n",
      "6\n",
      "7\n",
      "8\n",
      "9\n",
      "10\n"
     ]
    }
   ],
   "source": [
    "#Q.12) Write a for loop to print numbers from 1 to 10.\n",
    "\n",
    "# Using a for loop to print numbers from 1 to 10\n",
    "for number in range(1, 11):\n",
    "    print(number)\n"
   ]
  },
  {
   "cell_type": "code",
   "execution_count": 21,
   "id": "8456ddf5-6ad2-4cac-9d9d-6e74fe2d647a",
   "metadata": {},
   "outputs": [
    {
     "name": "stdout",
     "output_type": "stream",
     "text": [
      "The sum of all even numbers between 1 and 50 is: 650\n"
     ]
    }
   ],
   "source": [
    "#Q13.)  Write a Python program to find the sum of all even numbers between 1 and 50.\n",
    "\n",
    "# Initialize the sum variable\n",
    "sum_of_even_numbers = 0\n",
    "\n",
    "# Loop through numbers from 1 to 50\n",
    "for number in range(1, 51):\n",
    "    if number % 2 == 0:  # Check if the number is even\n",
    "        sum_of_even_numbers += number  # Add even number to the sum\n",
    "\n",
    "# Print the result\n",
    "print(\"The sum of all even numbers between 1 and 50 is:\", sum_of_even_numbers)\n"
   ]
  },
  {
   "cell_type": "code",
   "execution_count": 22,
   "id": "da509dc1-e5fb-4940-8d00-eebdfd065cda",
   "metadata": {},
   "outputs": [
    {
     "name": "stdin",
     "output_type": "stream",
     "text": [
      "Enter a string:  rohan\n"
     ]
    },
    {
     "name": "stdout",
     "output_type": "stream",
     "text": [
      "Reversed string: nahor\n"
     ]
    }
   ],
   "source": [
    "#Q.14) Write a program to reverse a string using a while loop.\n",
    "\n",
    "# Take user input\n",
    "input_string = input(\"Enter a string: \")\n",
    "\n",
    "# Initialize an empty string to store the reversed string\n",
    "reversed_string = \"\"\n",
    "\n",
    "# Initialize a variable to keep track of the position in the string\n",
    "index = len(input_string) - 1\n",
    "\n",
    "# Use a while loop to reverse the string\n",
    "while index >= 0:\n",
    "    reversed_string += input_string[index]\n",
    "    index -= 1  # Move to the previous character\n",
    "\n",
    "# Print the reversed string\n",
    "print(\"Reversed string:\", reversed_string)\n"
   ]
  },
  {
   "cell_type": "code",
   "execution_count": 23,
   "id": "b5bc8929-c74a-46e6-ad3d-f31c126c9841",
   "metadata": {},
   "outputs": [
    {
     "name": "stdin",
     "output_type": "stream",
     "text": [
      "Enter a number to calculate its factorial:  10\n"
     ]
    },
    {
     "name": "stdout",
     "output_type": "stream",
     "text": [
      "The factorial is: 3628800\n"
     ]
    }
   ],
   "source": [
    "#Q.15) Write a Python program to calculate the factorial of a number provided by the user using a while loop.\n",
    "\n",
    "# Take user input\n",
    "number = int(input(\"Enter a number to calculate its factorial: \"))\n",
    "\n",
    "# Initialize the factorial result variable\n",
    "factorial = 1\n",
    "\n",
    "# Check if the number is negative, as factorial is not defined for negative numbers\n",
    "if number < 0:\n",
    "    print(\"Factorial is not defined for negative numbers.\")\n",
    "else:\n",
    "    # Use a while loop to calculate factorial\n",
    "    while number > 1:\n",
    "        factorial *= number  # Multiply the current factorial by the number\n",
    "        number -= 1  # Decrement the number by 1\n",
    "\n",
    "    # Print the result\n",
    "    print(\"The factorial is:\", factorial)\n"
   ]
  },
  {
   "cell_type": "code",
   "execution_count": null,
   "id": "0c437a29-ecdd-4bc2-a41e-c6c13918d5a7",
   "metadata": {},
   "outputs": [],
   "source": []
  }
 ],
 "metadata": {
  "kernelspec": {
   "display_name": "Python 3 (ipykernel)",
   "language": "python",
   "name": "python3"
  },
  "language_info": {
   "codemirror_mode": {
    "name": "ipython",
    "version": 3
   },
   "file_extension": ".py",
   "mimetype": "text/x-python",
   "name": "python",
   "nbconvert_exporter": "python",
   "pygments_lexer": "ipython3",
   "version": "3.12.7"
  }
 },
 "nbformat": 4,
 "nbformat_minor": 5
}
